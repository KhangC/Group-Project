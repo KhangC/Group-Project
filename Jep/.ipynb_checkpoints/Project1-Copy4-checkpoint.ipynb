{
 "cells": [
  {
   "cell_type": "code",
   "execution_count": 3,
   "metadata": {},
   "outputs": [],
   "source": [
    "import pandas as pd\n",
    "import matplotlib.pyplot as plt\n",
    "import numpy as np\n",
    "from matplotlib import style"
   ]
  },
  {
   "cell_type": "code",
   "execution_count": 4,
   "metadata": {},
   "outputs": [
    {
     "name": "stdout",
     "output_type": "stream",
     "text": [
      "C:\\Users\\Teffe\\Desktop\\UCD\\Project1\\Project1\n"
     ]
    }
   ],
   "source": [
    "cd Project1"
   ]
  },
  {
   "cell_type": "code",
   "execution_count": 5,
   "metadata": {},
   "outputs": [
    {
     "data": {
      "text/html": [
       "<div>\n",
       "<style scoped>\n",
       "    .dataframe tbody tr th:only-of-type {\n",
       "        vertical-align: middle;\n",
       "    }\n",
       "\n",
       "    .dataframe tbody tr th {\n",
       "        vertical-align: top;\n",
       "    }\n",
       "\n",
       "    .dataframe thead th {\n",
       "        text-align: right;\n",
       "    }\n",
       "</style>\n",
       "<table border=\"1\" class=\"dataframe\">\n",
       "  <thead>\n",
       "    <tr style=\"text-align: right;\">\n",
       "      <th></th>\n",
       "      <th>year</th>\n",
       "      <th>geo_name</th>\n",
       "      <th>geo</th>\n",
       "      <th>violent_crime</th>\n",
       "    </tr>\n",
       "  </thead>\n",
       "  <tbody>\n",
       "    <tr>\n",
       "      <th>0</th>\n",
       "      <td>2016</td>\n",
       "      <td>Alameda County, CA</td>\n",
       "      <td>05000US06001</td>\n",
       "      <td>723.49</td>\n",
       "    </tr>\n",
       "    <tr>\n",
       "      <th>1</th>\n",
       "      <td>2017</td>\n",
       "      <td>Alameda County, CA</td>\n",
       "      <td>05000US06001</td>\n",
       "      <td>720.31</td>\n",
       "    </tr>\n",
       "    <tr>\n",
       "      <th>2</th>\n",
       "      <td>2015</td>\n",
       "      <td>Alameda County, CA</td>\n",
       "      <td>05000US06001</td>\n",
       "      <td>723.49</td>\n",
       "    </tr>\n",
       "    <tr>\n",
       "      <th>3</th>\n",
       "      <td>2017</td>\n",
       "      <td>Alpine County</td>\n",
       "      <td>05000US06003</td>\n",
       "      <td>529.57</td>\n",
       "    </tr>\n",
       "    <tr>\n",
       "      <th>4</th>\n",
       "      <td>2016</td>\n",
       "      <td>Alpine County</td>\n",
       "      <td>05000US06003</td>\n",
       "      <td>719.22</td>\n",
       "    </tr>\n",
       "  </tbody>\n",
       "</table>\n",
       "</div>"
      ],
      "text/plain": [
       "   year            geo_name           geo  violent_crime\n",
       "0  2016  Alameda County, CA  05000US06001         723.49\n",
       "1  2017  Alameda County, CA  05000US06001         720.31\n",
       "2  2015  Alameda County, CA  05000US06001         723.49\n",
       "3  2017       Alpine County  05000US06003         529.57\n",
       "4  2016       Alpine County  05000US06003         719.22"
      ]
     },
     "execution_count": 5,
     "metadata": {},
     "output_type": "execute_result"
    }
   ],
   "source": [
    "crime_df = pd.read_csv(\"../Project1/Crime.csv\")\n",
    "crime_df.head()"
   ]
  },
  {
   "cell_type": "code",
   "execution_count": 6,
   "metadata": {},
   "outputs": [
    {
     "data": {
      "text/plain": [
       "year             174\n",
       "geo_name         174\n",
       "geo              174\n",
       "violent_crime    174\n",
       "dtype: int64"
      ]
     },
     "execution_count": 6,
     "metadata": {},
     "output_type": "execute_result"
    }
   ],
   "source": [
    "crime_df.count()"
   ]
  },
  {
   "cell_type": "code",
   "execution_count": 7,
   "metadata": {},
   "outputs": [
    {
     "data": {
      "text/html": [
       "<div>\n",
       "<style scoped>\n",
       "    .dataframe tbody tr th:only-of-type {\n",
       "        vertical-align: middle;\n",
       "    }\n",
       "\n",
       "    .dataframe tbody tr th {\n",
       "        vertical-align: top;\n",
       "    }\n",
       "\n",
       "    .dataframe thead th {\n",
       "        text-align: right;\n",
       "    }\n",
       "</style>\n",
       "<table border=\"1\" class=\"dataframe\">\n",
       "  <thead>\n",
       "    <tr style=\"text-align: right;\">\n",
       "      <th></th>\n",
       "      <th>year</th>\n",
       "      <th>geo_name</th>\n",
       "      <th>geo</th>\n",
       "      <th>violent_crime</th>\n",
       "    </tr>\n",
       "  </thead>\n",
       "  <tbody>\n",
       "    <tr>\n",
       "      <th>0</th>\n",
       "      <td>2016</td>\n",
       "      <td>Alameda County</td>\n",
       "      <td>05000US06001</td>\n",
       "      <td>723.49</td>\n",
       "    </tr>\n",
       "    <tr>\n",
       "      <th>1</th>\n",
       "      <td>2017</td>\n",
       "      <td>Alameda County</td>\n",
       "      <td>05000US06001</td>\n",
       "      <td>720.31</td>\n",
       "    </tr>\n",
       "    <tr>\n",
       "      <th>2</th>\n",
       "      <td>2015</td>\n",
       "      <td>Alameda County</td>\n",
       "      <td>05000US06001</td>\n",
       "      <td>723.49</td>\n",
       "    </tr>\n",
       "    <tr>\n",
       "      <th>3</th>\n",
       "      <td>2017</td>\n",
       "      <td>Alpine County</td>\n",
       "      <td>05000US06003</td>\n",
       "      <td>529.57</td>\n",
       "    </tr>\n",
       "    <tr>\n",
       "      <th>4</th>\n",
       "      <td>2016</td>\n",
       "      <td>Alpine County</td>\n",
       "      <td>05000US06003</td>\n",
       "      <td>719.22</td>\n",
       "    </tr>\n",
       "  </tbody>\n",
       "</table>\n",
       "</div>"
      ],
      "text/plain": [
       "   year        geo_name           geo  violent_crime\n",
       "0  2016  Alameda County  05000US06001         723.49\n",
       "1  2017  Alameda County  05000US06001         720.31\n",
       "2  2015  Alameda County  05000US06001         723.49\n",
       "3  2017   Alpine County  05000US06003         529.57\n",
       "4  2016   Alpine County  05000US06003         719.22"
      ]
     },
     "execution_count": 7,
     "metadata": {},
     "output_type": "execute_result"
    }
   ],
   "source": [
    "crime_df[\"geo_name\"] = crime_df[\"geo_name\"].map(lambda x: x.rstrip(', CA'))\n",
    "crime_df.head()"
   ]
  },
  {
   "cell_type": "code",
   "execution_count": 8,
   "metadata": {},
   "outputs": [
    {
     "data": {
      "text/html": [
       "<div>\n",
       "<style scoped>\n",
       "    .dataframe tbody tr th:only-of-type {\n",
       "        vertical-align: middle;\n",
       "    }\n",
       "\n",
       "    .dataframe tbody tr th {\n",
       "        vertical-align: top;\n",
       "    }\n",
       "\n",
       "    .dataframe thead th {\n",
       "        text-align: right;\n",
       "    }\n",
       "</style>\n",
       "<table border=\"1\" class=\"dataframe\">\n",
       "  <thead>\n",
       "    <tr style=\"text-align: right;\">\n",
       "      <th></th>\n",
       "      <th>geo_name</th>\n",
       "      <th>violent_crime</th>\n",
       "    </tr>\n",
       "  </thead>\n",
       "  <tbody>\n",
       "    <tr>\n",
       "      <th>0</th>\n",
       "      <td>Alameda County</td>\n",
       "      <td>723.49</td>\n",
       "    </tr>\n",
       "    <tr>\n",
       "      <th>1</th>\n",
       "      <td>Alameda County</td>\n",
       "      <td>720.31</td>\n",
       "    </tr>\n",
       "    <tr>\n",
       "      <th>2</th>\n",
       "      <td>Alameda County</td>\n",
       "      <td>723.49</td>\n",
       "    </tr>\n",
       "    <tr>\n",
       "      <th>3</th>\n",
       "      <td>Alpine County</td>\n",
       "      <td>529.57</td>\n",
       "    </tr>\n",
       "    <tr>\n",
       "      <th>4</th>\n",
       "      <td>Alpine County</td>\n",
       "      <td>719.22</td>\n",
       "    </tr>\n",
       "  </tbody>\n",
       "</table>\n",
       "</div>"
      ],
      "text/plain": [
       "         geo_name  violent_crime\n",
       "0  Alameda County         723.49\n",
       "1  Alameda County         720.31\n",
       "2  Alameda County         723.49\n",
       "3   Alpine County         529.57\n",
       "4   Alpine County         719.22"
      ]
     },
     "execution_count": 8,
     "metadata": {},
     "output_type": "execute_result"
    }
   ],
   "source": [
    "crime_1_df = crime_df.drop(['year','geo'],axis=1)\n",
    "crime_1_df.head()"
   ]
  },
  {
   "cell_type": "code",
   "execution_count": 9,
   "metadata": {},
   "outputs": [
    {
     "data": {
      "text/html": [
       "<div>\n",
       "<style scoped>\n",
       "    .dataframe tbody tr th:only-of-type {\n",
       "        vertical-align: middle;\n",
       "    }\n",
       "\n",
       "    .dataframe tbody tr th {\n",
       "        vertical-align: top;\n",
       "    }\n",
       "\n",
       "    .dataframe thead th {\n",
       "        text-align: right;\n",
       "    }\n",
       "</style>\n",
       "<table border=\"1\" class=\"dataframe\">\n",
       "  <thead>\n",
       "    <tr style=\"text-align: right;\">\n",
       "      <th></th>\n",
       "      <th>violent_crime</th>\n",
       "    </tr>\n",
       "    <tr>\n",
       "      <th>geo_name</th>\n",
       "      <th></th>\n",
       "    </tr>\n",
       "  </thead>\n",
       "  <tbody>\n",
       "    <tr>\n",
       "      <th>Alameda County</th>\n",
       "      <td>722.430000</td>\n",
       "    </tr>\n",
       "    <tr>\n",
       "      <th>Alpine County</th>\n",
       "      <td>656.003333</td>\n",
       "    </tr>\n",
       "    <tr>\n",
       "      <th>Amador County</th>\n",
       "      <td>289.006667</td>\n",
       "    </tr>\n",
       "    <tr>\n",
       "      <th>Butte County</th>\n",
       "      <td>302.260000</td>\n",
       "    </tr>\n",
       "    <tr>\n",
       "      <th>Calaveras County</th>\n",
       "      <td>237.840000</td>\n",
       "    </tr>\n",
       "  </tbody>\n",
       "</table>\n",
       "</div>"
      ],
      "text/plain": [
       "                  violent_crime\n",
       "geo_name                       \n",
       "Alameda County       722.430000\n",
       "Alpine County        656.003333\n",
       "Amador County        289.006667\n",
       "Butte County         302.260000\n",
       "Calaveras County     237.840000"
      ]
     },
     "execution_count": 9,
     "metadata": {},
     "output_type": "execute_result"
    }
   ],
   "source": [
    "crime_group_df = crime_1_df.groupby('geo_name').mean()\n",
    "crime_group_df.head()"
   ]
  },
  {
   "cell_type": "code",
   "execution_count": 10,
   "metadata": {},
   "outputs": [
    {
     "name": "stdout",
     "output_type": "stream",
     "text": [
      "                      violent_crime\n",
      "geo_name                           \n",
      "San Joaquin County       819.606667\n",
      "Shasta County            734.853333\n",
      "San Francisco County     732.763333\n"
     ]
    }
   ],
   "source": [
    "print (crime_group_df.nlargest(3,'violent_crime'))"
   ]
  },
  {
   "cell_type": "code",
   "execution_count": 11,
   "metadata": {},
   "outputs": [
    {
     "name": "stdout",
     "output_type": "stream",
     "text": [
      "                violent_crime\n",
      "geo_name                     \n",
      "Placer County      194.253333\n",
      "Marin County       196.770000\n",
      "Ventura County     205.020000\n"
     ]
    }
   ],
   "source": [
    "print (crime_group_df.nsmallest(3,'violent_crime'))"
   ]
  },
  {
   "cell_type": "code",
   "execution_count": 12,
   "metadata": {},
   "outputs": [
    {
     "data": {
      "text/html": [
       "<div>\n",
       "<style scoped>\n",
       "    .dataframe tbody tr th:only-of-type {\n",
       "        vertical-align: middle;\n",
       "    }\n",
       "\n",
       "    .dataframe tbody tr th {\n",
       "        vertical-align: top;\n",
       "    }\n",
       "\n",
       "    .dataframe thead th {\n",
       "        text-align: right;\n",
       "    }\n",
       "</style>\n",
       "<table border=\"1\" class=\"dataframe\">\n",
       "  <thead>\n",
       "    <tr style=\"text-align: right;\">\n",
       "      <th></th>\n",
       "      <th>year</th>\n",
       "      <th>geo_name</th>\n",
       "      <th>geo</th>\n",
       "      <th>violent_crime</th>\n",
       "    </tr>\n",
       "  </thead>\n",
       "  <tbody>\n",
       "    <tr>\n",
       "      <th>91</th>\n",
       "      <td>2015</td>\n",
       "      <td>Placer County</td>\n",
       "      <td>05000US06061</td>\n",
       "      <td>203.41</td>\n",
       "    </tr>\n",
       "    <tr>\n",
       "      <th>92</th>\n",
       "      <td>2016</td>\n",
       "      <td>Placer County</td>\n",
       "      <td>05000US06061</td>\n",
       "      <td>203.41</td>\n",
       "    </tr>\n",
       "    <tr>\n",
       "      <th>90</th>\n",
       "      <td>2017</td>\n",
       "      <td>Placer County</td>\n",
       "      <td>05000US06061</td>\n",
       "      <td>175.94</td>\n",
       "    </tr>\n",
       "  </tbody>\n",
       "</table>\n",
       "</div>"
      ],
      "text/plain": [
       "    year       geo_name           geo  violent_crime\n",
       "91  2015  Placer County  05000US06061         203.41\n",
       "92  2016  Placer County  05000US06061         203.41\n",
       "90  2017  Placer County  05000US06061         175.94"
      ]
     },
     "execution_count": 12,
     "metadata": {},
     "output_type": "execute_result"
    }
   ],
   "source": [
    "crime_df_Placer_County = crime_df[crime_df.geo_name == \"Placer County\"]\n",
    "crime_df_Placer_County = crime_df_Placer_County.sort_values('year')\n",
    "crime_df_Placer_County"
   ]
  },
  {
   "cell_type": "code",
   "execution_count": 13,
   "metadata": {},
   "outputs": [
    {
     "data": {
      "text/html": [
       "<div>\n",
       "<style scoped>\n",
       "    .dataframe tbody tr th:only-of-type {\n",
       "        vertical-align: middle;\n",
       "    }\n",
       "\n",
       "    .dataframe tbody tr th {\n",
       "        vertical-align: top;\n",
       "    }\n",
       "\n",
       "    .dataframe thead th {\n",
       "        text-align: right;\n",
       "    }\n",
       "</style>\n",
       "<table border=\"1\" class=\"dataframe\">\n",
       "  <thead>\n",
       "    <tr style=\"text-align: right;\">\n",
       "      <th></th>\n",
       "      <th>year</th>\n",
       "      <th>geo_name</th>\n",
       "      <th>geo</th>\n",
       "      <th>violent_crime</th>\n",
       "    </tr>\n",
       "  </thead>\n",
       "  <tbody>\n",
       "    <tr>\n",
       "      <th>62</th>\n",
       "      <td>2015</td>\n",
       "      <td>Marin County</td>\n",
       "      <td>05000US06041</td>\n",
       "      <td>202.70</td>\n",
       "    </tr>\n",
       "    <tr>\n",
       "      <th>60</th>\n",
       "      <td>2016</td>\n",
       "      <td>Marin County</td>\n",
       "      <td>05000US06041</td>\n",
       "      <td>202.70</td>\n",
       "    </tr>\n",
       "    <tr>\n",
       "      <th>61</th>\n",
       "      <td>2017</td>\n",
       "      <td>Marin County</td>\n",
       "      <td>05000US06041</td>\n",
       "      <td>184.91</td>\n",
       "    </tr>\n",
       "  </tbody>\n",
       "</table>\n",
       "</div>"
      ],
      "text/plain": [
       "    year      geo_name           geo  violent_crime\n",
       "62  2015  Marin County  05000US06041         202.70\n",
       "60  2016  Marin County  05000US06041         202.70\n",
       "61  2017  Marin County  05000US06041         184.91"
      ]
     },
     "execution_count": 13,
     "metadata": {},
     "output_type": "execute_result"
    }
   ],
   "source": [
    "crime_df_Marin_County = crime_df[crime_df.geo_name == \"Marin County\"]\n",
    "crime_df_Marin_County = crime_df_Marin_County.sort_values('year')\n",
    "crime_df_Marin_County"
   ]
  },
  {
   "cell_type": "code",
   "execution_count": 14,
   "metadata": {},
   "outputs": [
    {
     "data": {
      "text/html": [
       "<div>\n",
       "<style scoped>\n",
       "    .dataframe tbody tr th:only-of-type {\n",
       "        vertical-align: middle;\n",
       "    }\n",
       "\n",
       "    .dataframe tbody tr th {\n",
       "        vertical-align: top;\n",
       "    }\n",
       "\n",
       "    .dataframe thead th {\n",
       "        text-align: right;\n",
       "    }\n",
       "</style>\n",
       "<table border=\"1\" class=\"dataframe\">\n",
       "  <thead>\n",
       "    <tr style=\"text-align: right;\">\n",
       "      <th></th>\n",
       "      <th>year</th>\n",
       "      <th>geo_name</th>\n",
       "      <th>geo</th>\n",
       "      <th>violent_crime</th>\n",
       "    </tr>\n",
       "  </thead>\n",
       "  <tbody>\n",
       "    <tr>\n",
       "      <th>165</th>\n",
       "      <td>2015</td>\n",
       "      <td>Ventura County</td>\n",
       "      <td>05000US06111</td>\n",
       "      <td>205.02</td>\n",
       "    </tr>\n",
       "    <tr>\n",
       "      <th>166</th>\n",
       "      <td>2016</td>\n",
       "      <td>Ventura County</td>\n",
       "      <td>05000US06111</td>\n",
       "      <td>205.02</td>\n",
       "    </tr>\n",
       "    <tr>\n",
       "      <th>167</th>\n",
       "      <td>2017</td>\n",
       "      <td>Ventura County</td>\n",
       "      <td>05000US06111</td>\n",
       "      <td>205.02</td>\n",
       "    </tr>\n",
       "  </tbody>\n",
       "</table>\n",
       "</div>"
      ],
      "text/plain": [
       "     year        geo_name           geo  violent_crime\n",
       "165  2015  Ventura County  05000US06111         205.02\n",
       "166  2016  Ventura County  05000US06111         205.02\n",
       "167  2017  Ventura County  05000US06111         205.02"
      ]
     },
     "execution_count": 14,
     "metadata": {},
     "output_type": "execute_result"
    }
   ],
   "source": [
    "crime_df_Ventura_County = crime_df[crime_df.geo_name == \"Ventura County\"]\n",
    "crime_df_Ventura_County = crime_df_Ventura_County.sort_values('year')\n",
    "crime_df_Ventura_County"
   ]
  },
  {
   "cell_type": "code",
   "execution_count": 64,
   "metadata": {},
   "outputs": [
    {
     "data": {
      "image/png": "[encoded data removed]",
      "text/plain": [
       "<Figure size 432x288 with 1 Axes>"
      ]
     },
     "metadata": {
      "needs_background": "light"
     },
     "output_type": "display_data"
    }
   ],
   "source": [
    "pc_c_x_axis = crime_df_Placer_County.year\n",
    "pc_c_y_axis = crime_df_Placer_County.violent_crime\n",
    "plt.xticks(ticks=pc_c_x_axis)\n",
    "plt.grid(True)\n",
    "ax4=plt.plot(pc_c_x_axis,pc_c_y_axis)"
   ]
  },
  {
   "cell_type": "code",
   "execution_count": 65,
   "metadata": {},
   "outputs": [
    {
     "data": {
      "image/png": "[encoded data removed]",
      "text/plain": [
       "<Figure size 432x288 with 1 Axes>"
      ]
     },
     "metadata": {
      "needs_background": "light"
     },
     "output_type": "display_data"
    }
   ],
   "source": [
    "mc_c_x_axis = crime_df_Marin_County.year\n",
    "mc_c_y_axis = crime_df_Marin_County.violent_crime\n",
    "plt.xticks(ticks=mc_c_x_axis)\n",
    "plt.grid(True)\n",
    "ax5=plt.plot(mc_c_x_axis,mc_c_y_axis)"
   ]
  },
  {
   "cell_type": "code",
   "execution_count": 66,
   "metadata": {},
   "outputs": [
    {
     "data": {
      "image/png": "[encoded data removed]",
      "text/plain": [
       "<Figure size 432x288 with 1 Axes>"
      ]
     },
     "metadata": {
      "needs_background": "light"
     },
     "output_type": "display_data"
    }
   ],
   "source": [
    "vc_c_x_axis = crime_df_Ventura_County.year\n",
    "vc_c_y_axis = crime_df_Ventura_County.violent_crime\n",
    "plt.xticks(ticks=vc_c_x_axis)\n",
    "plt.grid(True)\n",
    "ax6=plt.plot(vc_c_x_axis,vc_c_y_axis)"
   ]
  },
  {
   "cell_type": "code",
   "execution_count": 67,
   "metadata": {},
   "outputs": [
    {
     "data": {
      "image/png": "[encoded data removed]",
      "text/plain": [
       "<Figure size 432x288 with 1 Axes>"
      ]
     },
     "metadata": {
      "needs_background": "light"
     },
     "output_type": "display_data"
    }
   ],
   "source": [
    "pc_c_x_axis = crime_df_Placer_County.year\n",
    "pc_c_y_axis = crime_df_Placer_County.violent_crime\n",
    "mc_c_x_axis = crime_df_Marin_County.year\n",
    "mc_c_y_axis = crime_df_Marin_County.violent_crime\n",
    "vc_c_x_axis = crime_df_Ventura_County.year\n",
    "vc_c_y_axis = crime_df_Ventura_County.violent_crime\n",
    "\n",
    "plt.xticks(ticks=vc_c_x_axis)\n",
    "plt.grid(True)\n",
    "\n",
    "ax1 = plt.plot(pc_c_x_axis,pc_c_y_axis,label='Placer County')\n",
    "ax2 = plt.plot(mc_c_x_axis,mc_c_y_axis,label='Marin County')\n",
    "ax3 = plt.plot(vc_c_x_axis,vc_c_y_axis,label='Ventura County')\n",
    "\n",
    "plt.legend()\n",
    "plt.show()"
   ]
  },
  {
   "cell_type": "code",
   "execution_count": 18,
   "metadata": {},
   "outputs": [
    {
     "data": {
      "text/plain": [
       "Text(0.5, 0, 'Ventura_County violent crime')"
      ]
     },
     "execution_count": 18,
     "metadata": {},
     "output_type": "execute_result"
    },
    {
     "data": {
      "image/png": "[encoded data removed]",
      "text/plain": [
       "<Figure size 432x288 with 3 Axes>"
      ]
     },
     "metadata": {
      "needs_background": "light"
     },
     "output_type": "display_data"
    }
   ],
   "source": [
    "fig,(ax4,ax5,ax6) = plt.subplots(3,sharex=True)\n",
    "fig.suptitle('Crime Rates over Time',fontsize=16)\n",
    "ax5.set_ylabel('Best place to raise family')\n",
    "plt.xticks(ticks=crime_df_Placer_County.year)\n",
    "ax4.plot(crime_df_Placer_County.year,crime_df_Placer_County.violent_crime)\n",
    "ax4.set_xlabel('Placer County violent crime')\n",
    "\n",
    "ax5.plot(crime_df_Marin_County.year,crime_df_Marin_County.violent_crime)\n",
    "ax5.set_xlabel('Marin County violent crime')\n",
    "\n",
    "ax6.plot(crime_df_Ventura_County.year,crime_df_Ventura_County.violent_crime)\n",
    "ax6.set_xlabel('Ventura_County violent crime')\n"
   ]
  },
  {
   "cell_type": "code",
   "execution_count": 19,
   "metadata": {},
   "outputs": [
    {
     "data": {
      "text/html": [
       "<div>\n",
       "<style scoped>\n",
       "    .dataframe tbody tr th:only-of-type {\n",
       "        vertical-align: middle;\n",
       "    }\n",
       "\n",
       "    .dataframe tbody tr th {\n",
       "        vertical-align: top;\n",
       "    }\n",
       "\n",
       "    .dataframe thead th {\n",
       "        text-align: right;\n",
       "    }\n",
       "</style>\n",
       "<table border=\"1\" class=\"dataframe\">\n",
       "  <thead>\n",
       "    <tr style=\"text-align: right;\">\n",
       "      <th></th>\n",
       "      <th>year</th>\n",
       "      <th>geo_name</th>\n",
       "      <th>geo</th>\n",
       "      <th>income</th>\n",
       "    </tr>\n",
       "  </thead>\n",
       "  <tbody>\n",
       "    <tr>\n",
       "      <th>0</th>\n",
       "      <td>2013</td>\n",
       "      <td>Alameda County, CA</td>\n",
       "      <td>05000US06001</td>\n",
       "      <td>72112</td>\n",
       "    </tr>\n",
       "    <tr>\n",
       "      <th>1</th>\n",
       "      <td>2013</td>\n",
       "      <td>Alpine County</td>\n",
       "      <td>05000US06003</td>\n",
       "      <td>58636</td>\n",
       "    </tr>\n",
       "    <tr>\n",
       "      <th>2</th>\n",
       "      <td>2013</td>\n",
       "      <td>Amador County</td>\n",
       "      <td>05000US06005</td>\n",
       "      <td>53684</td>\n",
       "    </tr>\n",
       "    <tr>\n",
       "      <th>3</th>\n",
       "      <td>2013</td>\n",
       "      <td>Butte County, CA</td>\n",
       "      <td>05000US06007</td>\n",
       "      <td>43752</td>\n",
       "    </tr>\n",
       "    <tr>\n",
       "      <th>4</th>\n",
       "      <td>2013</td>\n",
       "      <td>Calaveras County</td>\n",
       "      <td>05000US06009</td>\n",
       "      <td>55295</td>\n",
       "    </tr>\n",
       "  </tbody>\n",
       "</table>\n",
       "</div>"
      ],
      "text/plain": [
       "   year            geo_name           geo  income\n",
       "0  2013  Alameda County, CA  05000US06001   72112\n",
       "1  2013       Alpine County  05000US06003   58636\n",
       "2  2013       Amador County  05000US06005   53684\n",
       "3  2013    Butte County, CA  05000US06007   43752\n",
       "4  2013    Calaveras County  05000US06009   55295"
      ]
     },
     "execution_count": 19,
     "metadata": {},
     "output_type": "execute_result"
    }
   ],
   "source": [
    "income_df = pd.read_csv(\"../Project1/Income.csv\")\n",
    "income_df.head()"
   ]
  },
  {
   "cell_type": "code",
   "execution_count": 20,
   "metadata": {},
   "outputs": [
    {
     "data": {
      "text/html": [
       "<div>\n",
       "<style scoped>\n",
       "    .dataframe tbody tr th:only-of-type {\n",
       "        vertical-align: middle;\n",
       "    }\n",
       "\n",
       "    .dataframe tbody tr th {\n",
       "        vertical-align: top;\n",
       "    }\n",
       "\n",
       "    .dataframe thead th {\n",
       "        text-align: right;\n",
       "    }\n",
       "</style>\n",
       "<table border=\"1\" class=\"dataframe\">\n",
       "  <thead>\n",
       "    <tr style=\"text-align: right;\">\n",
       "      <th></th>\n",
       "      <th>year</th>\n",
       "      <th>geo_name</th>\n",
       "      <th>geo</th>\n",
       "      <th>income</th>\n",
       "    </tr>\n",
       "  </thead>\n",
       "  <tbody>\n",
       "    <tr>\n",
       "      <th>0</th>\n",
       "      <td>2013</td>\n",
       "      <td>Alameda County</td>\n",
       "      <td>05000US06001</td>\n",
       "      <td>72112</td>\n",
       "    </tr>\n",
       "    <tr>\n",
       "      <th>1</th>\n",
       "      <td>2013</td>\n",
       "      <td>Alpine County</td>\n",
       "      <td>05000US06003</td>\n",
       "      <td>58636</td>\n",
       "    </tr>\n",
       "    <tr>\n",
       "      <th>2</th>\n",
       "      <td>2013</td>\n",
       "      <td>Amador County</td>\n",
       "      <td>05000US06005</td>\n",
       "      <td>53684</td>\n",
       "    </tr>\n",
       "    <tr>\n",
       "      <th>3</th>\n",
       "      <td>2013</td>\n",
       "      <td>Butte County</td>\n",
       "      <td>05000US06007</td>\n",
       "      <td>43752</td>\n",
       "    </tr>\n",
       "    <tr>\n",
       "      <th>4</th>\n",
       "      <td>2013</td>\n",
       "      <td>Calaveras County</td>\n",
       "      <td>05000US06009</td>\n",
       "      <td>55295</td>\n",
       "    </tr>\n",
       "  </tbody>\n",
       "</table>\n",
       "</div>"
      ],
      "text/plain": [
       "   year          geo_name           geo  income\n",
       "0  2013    Alameda County  05000US06001   72112\n",
       "1  2013     Alpine County  05000US06003   58636\n",
       "2  2013     Amador County  05000US06005   53684\n",
       "3  2013      Butte County  05000US06007   43752\n",
       "4  2013  Calaveras County  05000US06009   55295"
      ]
     },
     "execution_count": 20,
     "metadata": {},
     "output_type": "execute_result"
    }
   ],
   "source": [
    "income_df[\"geo_name\"] = income_df[\"geo_name\"].map(lambda x: x.rstrip(', CA'))\n",
    "income_df.head()"
   ]
  },
  {
   "cell_type": "code",
   "execution_count": 21,
   "metadata": {},
   "outputs": [
    {
     "data": {
      "text/html": [
       "<div>\n",
       "<style scoped>\n",
       "    .dataframe tbody tr th:only-of-type {\n",
       "        vertical-align: middle;\n",
       "    }\n",
       "\n",
       "    .dataframe tbody tr th {\n",
       "        vertical-align: top;\n",
       "    }\n",
       "\n",
       "    .dataframe thead th {\n",
       "        text-align: right;\n",
       "    }\n",
       "</style>\n",
       "<table border=\"1\" class=\"dataframe\">\n",
       "  <thead>\n",
       "    <tr style=\"text-align: right;\">\n",
       "      <th></th>\n",
       "      <th>geo_name</th>\n",
       "      <th>income</th>\n",
       "    </tr>\n",
       "  </thead>\n",
       "  <tbody>\n",
       "    <tr>\n",
       "      <th>0</th>\n",
       "      <td>Alameda County</td>\n",
       "      <td>72112</td>\n",
       "    </tr>\n",
       "    <tr>\n",
       "      <th>1</th>\n",
       "      <td>Alpine County</td>\n",
       "      <td>58636</td>\n",
       "    </tr>\n",
       "    <tr>\n",
       "      <th>2</th>\n",
       "      <td>Amador County</td>\n",
       "      <td>53684</td>\n",
       "    </tr>\n",
       "    <tr>\n",
       "      <th>3</th>\n",
       "      <td>Butte County</td>\n",
       "      <td>43752</td>\n",
       "    </tr>\n",
       "    <tr>\n",
       "      <th>4</th>\n",
       "      <td>Calaveras County</td>\n",
       "      <td>55295</td>\n",
       "    </tr>\n",
       "  </tbody>\n",
       "</table>\n",
       "</div>"
      ],
      "text/plain": [
       "           geo_name  income\n",
       "0    Alameda County   72112\n",
       "1     Alpine County   58636\n",
       "2     Amador County   53684\n",
       "3      Butte County   43752\n",
       "4  Calaveras County   55295"
      ]
     },
     "execution_count": 21,
     "metadata": {},
     "output_type": "execute_result"
    }
   ],
   "source": [
    "income_1_df = income_df.drop(['year','geo'],axis=1)\n",
    "income_1_df.head()"
   ]
  },
  {
   "cell_type": "code",
   "execution_count": 22,
   "metadata": {},
   "outputs": [
    {
     "data": {
      "text/html": [
       "<div>\n",
       "<style scoped>\n",
       "    .dataframe tbody tr th:only-of-type {\n",
       "        vertical-align: middle;\n",
       "    }\n",
       "\n",
       "    .dataframe tbody tr th {\n",
       "        vertical-align: top;\n",
       "    }\n",
       "\n",
       "    .dataframe thead th {\n",
       "        text-align: right;\n",
       "    }\n",
       "</style>\n",
       "<table border=\"1\" class=\"dataframe\">\n",
       "  <thead>\n",
       "    <tr style=\"text-align: right;\">\n",
       "      <th></th>\n",
       "      <th>income</th>\n",
       "    </tr>\n",
       "    <tr>\n",
       "      <th>geo_name</th>\n",
       "      <th></th>\n",
       "    </tr>\n",
       "  </thead>\n",
       "  <tbody>\n",
       "    <tr>\n",
       "      <th>Alameda County</th>\n",
       "      <td>75334.25</td>\n",
       "    </tr>\n",
       "    <tr>\n",
       "      <th>Alpine County</th>\n",
       "      <td>58817.75</td>\n",
       "    </tr>\n",
       "    <tr>\n",
       "      <th>Amador County</th>\n",
       "      <td>54462.75</td>\n",
       "    </tr>\n",
       "    <tr>\n",
       "      <th>Butte County</th>\n",
       "      <td>43681.75</td>\n",
       "    </tr>\n",
       "    <tr>\n",
       "      <th>Calaveras County</th>\n",
       "      <td>54241.50</td>\n",
       "    </tr>\n",
       "  </tbody>\n",
       "</table>\n",
       "</div>"
      ],
      "text/plain": [
       "                    income\n",
       "geo_name                  \n",
       "Alameda County    75334.25\n",
       "Alpine County     58817.75\n",
       "Amador County     54462.75\n",
       "Butte County      43681.75\n",
       "Calaveras County  54241.50"
      ]
     },
     "execution_count": 22,
     "metadata": {},
     "output_type": "execute_result"
    }
   ],
   "source": [
    "income_group_df = income_1_df.groupby('geo_name').mean()\n",
    "income_group_df.head()"
   ]
  },
  {
   "cell_type": "code",
   "execution_count": 23,
   "metadata": {},
   "outputs": [
    {
     "name": "stdout",
     "output_type": "stream",
     "text": [
      "                      income\n",
      "geo_name                    \n",
      "Santa Clara County  95759.75\n",
      "Marin County        93983.75\n",
      "San Mateo County    92948.00\n"
     ]
    }
   ],
   "source": [
    "print (income_group_df.nlargest(3,'income'))"
   ]
  },
  {
   "cell_type": "code",
   "execution_count": 41,
   "metadata": {},
   "outputs": [
    {
     "data": {
      "text/html": [
       "<div>\n",
       "<style scoped>\n",
       "    .dataframe tbody tr th:only-of-type {\n",
       "        vertical-align: middle;\n",
       "    }\n",
       "\n",
       "    .dataframe tbody tr th {\n",
       "        vertical-align: top;\n",
       "    }\n",
       "\n",
       "    .dataframe thead th {\n",
       "        text-align: right;\n",
       "    }\n",
       "</style>\n",
       "<table border=\"1\" class=\"dataframe\">\n",
       "  <thead>\n",
       "    <tr style=\"text-align: right;\">\n",
       "      <th></th>\n",
       "      <th>year</th>\n",
       "      <th>geo_name</th>\n",
       "      <th>geo</th>\n",
       "      <th>income</th>\n",
       "    </tr>\n",
       "  </thead>\n",
       "  <tbody>\n",
       "    <tr>\n",
       "      <th>30</th>\n",
       "      <td>2013</td>\n",
       "      <td>Placer County</td>\n",
       "      <td>05000US06061</td>\n",
       "      <td>72725</td>\n",
       "    </tr>\n",
       "    <tr>\n",
       "      <th>88</th>\n",
       "      <td>2014</td>\n",
       "      <td>Placer County</td>\n",
       "      <td>05000US06061</td>\n",
       "      <td>73747</td>\n",
       "    </tr>\n",
       "    <tr>\n",
       "      <th>146</th>\n",
       "      <td>2015</td>\n",
       "      <td>Placer County</td>\n",
       "      <td>05000US06061</td>\n",
       "      <td>73948</td>\n",
       "    </tr>\n",
       "    <tr>\n",
       "      <th>204</th>\n",
       "      <td>2016</td>\n",
       "      <td>Placer County</td>\n",
       "      <td>05000US06061</td>\n",
       "      <td>76926</td>\n",
       "    </tr>\n",
       "  </tbody>\n",
       "</table>\n",
       "</div>"
      ],
      "text/plain": [
       "     year       geo_name           geo  income\n",
       "30   2013  Placer County  05000US06061   72725\n",
       "88   2014  Placer County  05000US06061   73747\n",
       "146  2015  Placer County  05000US06061   73948\n",
       "204  2016  Placer County  05000US06061   76926"
      ]
     },
     "execution_count": 41,
     "metadata": {},
     "output_type": "execute_result"
    }
   ],
   "source": [
    "income_df_Placer_County = income_df[income_1_df.geo_name == \"Placer County\"]\n",
    "income_df_Placer_County = income_df_Placer_County.sort_values('year')\n",
    "income_df_Placer_County"
   ]
  },
  {
   "cell_type": "code",
   "execution_count": 53,
   "metadata": {},
   "outputs": [
    {
     "data": {
      "image/png": "[encoded data removed]",
      "text/plain": [
       "<Figure size 432x288 with 1 Axes>"
      ]
     },
     "metadata": {
      "needs_background": "light"
     },
     "output_type": "display_data"
    }
   ],
   "source": [
    "x_axis1 = income_df_Placer_County.year\n",
    "y_axis1 = income_df_Placer_County.income\n",
    "plt.xticks(ticks=x_axis1)\n",
    "plt.grid(True)\n",
    "ax1 = plt.plot(x_axis1,y_axis1)\n",
    "plt.show()"
   ]
  },
  {
   "cell_type": "code",
   "execution_count": 43,
   "metadata": {},
   "outputs": [
    {
     "data": {
      "text/html": [
       "<div>\n",
       "<style scoped>\n",
       "    .dataframe tbody tr th:only-of-type {\n",
       "        vertical-align: middle;\n",
       "    }\n",
       "\n",
       "    .dataframe tbody tr th {\n",
       "        vertical-align: top;\n",
       "    }\n",
       "\n",
       "    .dataframe thead th {\n",
       "        text-align: right;\n",
       "    }\n",
       "</style>\n",
       "<table border=\"1\" class=\"dataframe\">\n",
       "  <thead>\n",
       "    <tr style=\"text-align: right;\">\n",
       "      <th></th>\n",
       "      <th>year</th>\n",
       "      <th>geo_name</th>\n",
       "      <th>geo</th>\n",
       "      <th>income</th>\n",
       "    </tr>\n",
       "  </thead>\n",
       "  <tbody>\n",
       "    <tr>\n",
       "      <th>20</th>\n",
       "      <td>2013</td>\n",
       "      <td>Marin County</td>\n",
       "      <td>05000US06041</td>\n",
       "      <td>90839</td>\n",
       "    </tr>\n",
       "    <tr>\n",
       "      <th>78</th>\n",
       "      <td>2014</td>\n",
       "      <td>Marin County</td>\n",
       "      <td>05000US06041</td>\n",
       "      <td>91529</td>\n",
       "    </tr>\n",
       "    <tr>\n",
       "      <th>136</th>\n",
       "      <td>2015</td>\n",
       "      <td>Marin County</td>\n",
       "      <td>05000US06041</td>\n",
       "      <td>93257</td>\n",
       "    </tr>\n",
       "    <tr>\n",
       "      <th>194</th>\n",
       "      <td>2016</td>\n",
       "      <td>Marin County</td>\n",
       "      <td>05000US06041</td>\n",
       "      <td>100310</td>\n",
       "    </tr>\n",
       "  </tbody>\n",
       "</table>\n",
       "</div>"
      ],
      "text/plain": [
       "     year      geo_name           geo  income\n",
       "20   2013  Marin County  05000US06041   90839\n",
       "78   2014  Marin County  05000US06041   91529\n",
       "136  2015  Marin County  05000US06041   93257\n",
       "194  2016  Marin County  05000US06041  100310"
      ]
     },
     "execution_count": 43,
     "metadata": {},
     "output_type": "execute_result"
    }
   ],
   "source": [
    "income_df_Marin_County = income_df[income_1_df.geo_name == \"Marin County\"]\n",
    "income_df_Marin_County = income_df_Marin_County.sort_values('year')\n",
    "income_df_Marin_County"
   ]
  },
  {
   "cell_type": "code",
   "execution_count": 57,
   "metadata": {},
   "outputs": [
    {
     "data": {
      "image/png": "[encoded data removed]",
      "text/plain": [
       "<Figure size 432x288 with 1 Axes>"
      ]
     },
     "metadata": {
      "needs_background": "light"
     },
     "output_type": "display_data"
    }
   ],
   "source": [
    "x_axis2 = income_df_Marin_County.year\n",
    "y_axis2 = income_df_Marin_County.income\n",
    "plt.xticks(ticks=x_axis2)\n",
    "plt.grid(True)\n",
    "ax2=plt.plot(x_axis2,y_axis2)\n",
    "\n",
    "plt.show()"
   ]
  },
  {
   "cell_type": "code",
   "execution_count": 29,
   "metadata": {},
   "outputs": [
    {
     "data": {
      "text/html": [
       "<div>\n",
       "<style scoped>\n",
       "    .dataframe tbody tr th:only-of-type {\n",
       "        vertical-align: middle;\n",
       "    }\n",
       "\n",
       "    .dataframe tbody tr th {\n",
       "        vertical-align: top;\n",
       "    }\n",
       "\n",
       "    .dataframe thead th {\n",
       "        text-align: right;\n",
       "    }\n",
       "</style>\n",
       "<table border=\"1\" class=\"dataframe\">\n",
       "  <thead>\n",
       "    <tr style=\"text-align: right;\">\n",
       "      <th></th>\n",
       "      <th>year</th>\n",
       "      <th>geo_name</th>\n",
       "      <th>geo</th>\n",
       "      <th>income</th>\n",
       "    </tr>\n",
       "  </thead>\n",
       "  <tbody>\n",
       "    <tr>\n",
       "      <th>55</th>\n",
       "      <td>2013</td>\n",
       "      <td>Ventura County</td>\n",
       "      <td>05000US06111</td>\n",
       "      <td>76544</td>\n",
       "    </tr>\n",
       "    <tr>\n",
       "      <th>113</th>\n",
       "      <td>2014</td>\n",
       "      <td>Ventura County</td>\n",
       "      <td>05000US06111</td>\n",
       "      <td>77335</td>\n",
       "    </tr>\n",
       "    <tr>\n",
       "      <th>171</th>\n",
       "      <td>2015</td>\n",
       "      <td>Ventura County</td>\n",
       "      <td>05000US06111</td>\n",
       "      <td>77348</td>\n",
       "    </tr>\n",
       "    <tr>\n",
       "      <th>229</th>\n",
       "      <td>2016</td>\n",
       "      <td>Ventura County</td>\n",
       "      <td>05000US06111</td>\n",
       "      <td>78593</td>\n",
       "    </tr>\n",
       "  </tbody>\n",
       "</table>\n",
       "</div>"
      ],
      "text/plain": [
       "     year        geo_name           geo  income\n",
       "55   2013  Ventura County  05000US06111   76544\n",
       "113  2014  Ventura County  05000US06111   77335\n",
       "171  2015  Ventura County  05000US06111   77348\n",
       "229  2016  Ventura County  05000US06111   78593"
      ]
     },
     "execution_count": 29,
     "metadata": {},
     "output_type": "execute_result"
    }
   ],
   "source": [
    "income_df_Ventura_County = income_df[income_1_df.geo_name == \"Ventura County\"]\n",
    "income_df_Ventura_County = income_df_Ventura_County.sort_values('year')\n",
    "income_df_Ventura_County"
   ]
  },
  {
   "cell_type": "code",
   "execution_count": 63,
   "metadata": {},
   "outputs": [
    {
     "data": {
      "image/png": "[encoded data removed]",
      "text/plain": [
       "<Figure size 432x288 with 1 Axes>"
      ]
     },
     "metadata": {
      "needs_background": "light"
     },
     "output_type": "display_data"
    }
   ],
   "source": [
    "x_axis1 = income_df_Placer_County.year\n",
    "y_axis1 = income_df_Placer_County.income\n",
    "\n",
    "x_axis2 = income_df_Marin_County.year\n",
    "y_axis2 = income_df_Marin_County.income\n",
    "\n",
    "x_axis3 = income_df_Ventura_County.year\n",
    "y_axis3 = income_df_Ventura_County.income\n",
    "\n",
    "plt.xticks(ticks=x_axis3)\n",
    "plt.grid(True)\n",
    "\n",
    "ax1 = plt.plot(x_axis1,y_axis1,label='Placer County')\n",
    "ax2 = plt.plot(x_axis2,y_axis2,label='Marin County')\n",
    "ax3 = plt.plot(x_axis3,y_axis3,label='Ventura County')\n",
    "\n",
    "plt.legend()\n",
    "plt.show()"
   ]
  },
  {
   "cell_type": "code",
   "execution_count": null,
   "metadata": {},
   "outputs": [],
   "source": []
  },
  {
   "cell_type": "code",
   "execution_count": null,
   "metadata": {},
   "outputs": [],
   "source": []
  }
 ],
 "metadata": {
  "kernelspec": {
   "display_name": "Python 3",
   "language": "python",
   "name": "python3"
  },
  "language_info": {
   "codemirror_mode": {
    "name": "ipython",
    "version": 3
   },
   "file_extension": ".py",
   "mimetype": "text/x-python",
   "name": "python",
   "nbconvert_exporter": "python",
   "pygments_lexer": "ipython3",
   "version": "3.7.1"
  }
 },
 "nbformat": 4,
 "nbformat_minor": 2
}
