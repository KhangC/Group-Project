{
 "cells": [
  {
   "cell_type": "markdown",
   "metadata": {},
   "source": [
    "# Import Dependencies"
   ]
  },
  {
   "cell_type": "code",
   "execution_count": 28,
   "metadata": {},
   "outputs": [],
   "source": [
    "%matplotlib inline\n",
    "import pandas as pd\n",
    "import matplotlib.pyplot as plt\n",
    "import numpy as np\n",
    "from matplotlib import style\n",
    "plt.style.use('ggplot')"
   ]
  },
  {
   "cell_type": "markdown",
   "metadata": {},
   "source": [
    "# Reference to Crime CSV and reading CSV into Pandas DataFrame"
   ]
  },
  {
   "cell_type": "code",
   "execution_count": 29,
   "metadata": {},
   "outputs": [
    {
     "data": {
      "text/html": [
       "<div>\n",
       "<style scoped>\n",
       "    .dataframe tbody tr th:only-of-type {\n",
       "        vertical-align: middle;\n",
       "    }\n",
       "\n",
       "    .dataframe tbody tr th {\n",
       "        vertical-align: top;\n",
       "    }\n",
       "\n",
       "    .dataframe thead th {\n",
       "        text-align: right;\n",
       "    }\n",
       "</style>\n",
       "<table border=\"1\" class=\"dataframe\">\n",
       "  <thead>\n",
       "    <tr style=\"text-align: right;\">\n",
       "      <th></th>\n",
       "      <th>year</th>\n",
       "      <th>geo_name</th>\n",
       "      <th>geo</th>\n",
       "      <th>violent_crime</th>\n",
       "    </tr>\n",
       "  </thead>\n",
       "  <tbody>\n",
       "    <tr>\n",
       "      <th>0</th>\n",
       "      <td>2016</td>\n",
       "      <td>Alameda County, CA</td>\n",
       "      <td>05000US06001</td>\n",
       "      <td>723.49</td>\n",
       "    </tr>\n",
       "    <tr>\n",
       "      <th>1</th>\n",
       "      <td>2017</td>\n",
       "      <td>Alameda County, CA</td>\n",
       "      <td>05000US06001</td>\n",
       "      <td>720.31</td>\n",
       "    </tr>\n",
       "    <tr>\n",
       "      <th>2</th>\n",
       "      <td>2015</td>\n",
       "      <td>Alameda County, CA</td>\n",
       "      <td>05000US06001</td>\n",
       "      <td>723.49</td>\n",
       "    </tr>\n",
       "    <tr>\n",
       "      <th>3</th>\n",
       "      <td>2017</td>\n",
       "      <td>Alpine County</td>\n",
       "      <td>05000US06003</td>\n",
       "      <td>529.57</td>\n",
       "    </tr>\n",
       "    <tr>\n",
       "      <th>4</th>\n",
       "      <td>2016</td>\n",
       "      <td>Alpine County</td>\n",
       "      <td>05000US06003</td>\n",
       "      <td>719.22</td>\n",
       "    </tr>\n",
       "  </tbody>\n",
       "</table>\n",
       "</div>"
      ],
      "text/plain": [
       "   year            geo_name           geo  violent_crime\n",
       "0  2016  Alameda County, CA  05000US06001         723.49\n",
       "1  2017  Alameda County, CA  05000US06001         720.31\n",
       "2  2015  Alameda County, CA  05000US06001         723.49\n",
       "3  2017       Alpine County  05000US06003         529.57\n",
       "4  2016       Alpine County  05000US06003         719.22"
      ]
     },
     "execution_count": 29,
     "metadata": {},
     "output_type": "execute_result"
    }
   ],
   "source": [
    "crime_df = pd.read_csv(\"Resources/Crime.csv\")\n",
    "crime_df.head()"
   ]
  },
  {
   "cell_type": "markdown",
   "metadata": {},
   "source": [
    "# Data Cleanup and Prep"
   ]
  },
  {
   "cell_type": "code",
   "execution_count": 30,
   "metadata": {},
   "outputs": [
    {
     "data": {
      "text/html": [
       "<div>\n",
       "<style scoped>\n",
       "    .dataframe tbody tr th:only-of-type {\n",
       "        vertical-align: middle;\n",
       "    }\n",
       "\n",
       "    .dataframe tbody tr th {\n",
       "        vertical-align: top;\n",
       "    }\n",
       "\n",
       "    .dataframe thead th {\n",
       "        text-align: right;\n",
       "    }\n",
       "</style>\n",
       "<table border=\"1\" class=\"dataframe\">\n",
       "  <thead>\n",
       "    <tr style=\"text-align: right;\">\n",
       "      <th></th>\n",
       "      <th>year</th>\n",
       "      <th>geo_name</th>\n",
       "      <th>geo</th>\n",
       "      <th>violent_crime</th>\n",
       "    </tr>\n",
       "  </thead>\n",
       "  <tbody>\n",
       "    <tr>\n",
       "      <th>0</th>\n",
       "      <td>2016</td>\n",
       "      <td>Alameda County</td>\n",
       "      <td>05000US06001</td>\n",
       "      <td>723.49</td>\n",
       "    </tr>\n",
       "    <tr>\n",
       "      <th>1</th>\n",
       "      <td>2017</td>\n",
       "      <td>Alameda County</td>\n",
       "      <td>05000US06001</td>\n",
       "      <td>720.31</td>\n",
       "    </tr>\n",
       "    <tr>\n",
       "      <th>2</th>\n",
       "      <td>2015</td>\n",
       "      <td>Alameda County</td>\n",
       "      <td>05000US06001</td>\n",
       "      <td>723.49</td>\n",
       "    </tr>\n",
       "    <tr>\n",
       "      <th>3</th>\n",
       "      <td>2017</td>\n",
       "      <td>Alpine County</td>\n",
       "      <td>05000US06003</td>\n",
       "      <td>529.57</td>\n",
       "    </tr>\n",
       "    <tr>\n",
       "      <th>4</th>\n",
       "      <td>2016</td>\n",
       "      <td>Alpine County</td>\n",
       "      <td>05000US06003</td>\n",
       "      <td>719.22</td>\n",
       "    </tr>\n",
       "  </tbody>\n",
       "</table>\n",
       "</div>"
      ],
      "text/plain": [
       "   year        geo_name           geo  violent_crime\n",
       "0  2016  Alameda County  05000US06001         723.49\n",
       "1  2017  Alameda County  05000US06001         720.31\n",
       "2  2015  Alameda County  05000US06001         723.49\n",
       "3  2017   Alpine County  05000US06003         529.57\n",
       "4  2016   Alpine County  05000US06003         719.22"
      ]
     },
     "execution_count": 30,
     "metadata": {},
     "output_type": "execute_result"
    }
   ],
   "source": [
    "crime_df[\"geo_name\"] = crime_df[\"geo_name\"].map(lambda x: x.rstrip(', CA'))\n",
    "crime_df.head()"
   ]
  },
  {
   "cell_type": "code",
   "execution_count": 31,
   "metadata": {},
   "outputs": [
    {
     "data": {
      "text/html": [
       "<div>\n",
       "<style scoped>\n",
       "    .dataframe tbody tr th:only-of-type {\n",
       "        vertical-align: middle;\n",
       "    }\n",
       "\n",
       "    .dataframe tbody tr th {\n",
       "        vertical-align: top;\n",
       "    }\n",
       "\n",
       "    .dataframe thead th {\n",
       "        text-align: right;\n",
       "    }\n",
       "</style>\n",
       "<table border=\"1\" class=\"dataframe\">\n",
       "  <thead>\n",
       "    <tr style=\"text-align: right;\">\n",
       "      <th></th>\n",
       "      <th>geo_name</th>\n",
       "      <th>violent_crime</th>\n",
       "    </tr>\n",
       "  </thead>\n",
       "  <tbody>\n",
       "    <tr>\n",
       "      <th>0</th>\n",
       "      <td>Alameda County</td>\n",
       "      <td>723.49</td>\n",
       "    </tr>\n",
       "    <tr>\n",
       "      <th>1</th>\n",
       "      <td>Alameda County</td>\n",
       "      <td>720.31</td>\n",
       "    </tr>\n",
       "    <tr>\n",
       "      <th>2</th>\n",
       "      <td>Alameda County</td>\n",
       "      <td>723.49</td>\n",
       "    </tr>\n",
       "    <tr>\n",
       "      <th>3</th>\n",
       "      <td>Alpine County</td>\n",
       "      <td>529.57</td>\n",
       "    </tr>\n",
       "    <tr>\n",
       "      <th>4</th>\n",
       "      <td>Alpine County</td>\n",
       "      <td>719.22</td>\n",
       "    </tr>\n",
       "  </tbody>\n",
       "</table>\n",
       "</div>"
      ],
      "text/plain": [
       "         geo_name  violent_crime\n",
       "0  Alameda County         723.49\n",
       "1  Alameda County         720.31\n",
       "2  Alameda County         723.49\n",
       "3   Alpine County         529.57\n",
       "4   Alpine County         719.22"
      ]
     },
     "execution_count": 31,
     "metadata": {},
     "output_type": "execute_result"
    }
   ],
   "source": [
    "crime_1_df = crime_df.drop(['year','geo'],axis=1)\n",
    "crime_1_df.head()"
   ]
  },
  {
   "cell_type": "code",
   "execution_count": 32,
   "metadata": {},
   "outputs": [
    {
     "data": {
      "text/html": [
       "<div>\n",
       "<style scoped>\n",
       "    .dataframe tbody tr th:only-of-type {\n",
       "        vertical-align: middle;\n",
       "    }\n",
       "\n",
       "    .dataframe tbody tr th {\n",
       "        vertical-align: top;\n",
       "    }\n",
       "\n",
       "    .dataframe thead th {\n",
       "        text-align: right;\n",
       "    }\n",
       "</style>\n",
       "<table border=\"1\" class=\"dataframe\">\n",
       "  <thead>\n",
       "    <tr style=\"text-align: right;\">\n",
       "      <th></th>\n",
       "      <th>violent_crime</th>\n",
       "    </tr>\n",
       "    <tr>\n",
       "      <th>geo_name</th>\n",
       "      <th></th>\n",
       "    </tr>\n",
       "  </thead>\n",
       "  <tbody>\n",
       "    <tr>\n",
       "      <th>Alameda County</th>\n",
       "      <td>722.430000</td>\n",
       "    </tr>\n",
       "    <tr>\n",
       "      <th>Alpine County</th>\n",
       "      <td>656.003333</td>\n",
       "    </tr>\n",
       "    <tr>\n",
       "      <th>Amador County</th>\n",
       "      <td>289.006667</td>\n",
       "    </tr>\n",
       "    <tr>\n",
       "      <th>Butte County</th>\n",
       "      <td>302.260000</td>\n",
       "    </tr>\n",
       "    <tr>\n",
       "      <th>Calaveras County</th>\n",
       "      <td>237.840000</td>\n",
       "    </tr>\n",
       "  </tbody>\n",
       "</table>\n",
       "</div>"
      ],
      "text/plain": [
       "                  violent_crime\n",
       "geo_name                       \n",
       "Alameda County       722.430000\n",
       "Alpine County        656.003333\n",
       "Amador County        289.006667\n",
       "Butte County         302.260000\n",
       "Calaveras County     237.840000"
      ]
     },
     "execution_count": 32,
     "metadata": {},
     "output_type": "execute_result"
    }
   ],
   "source": [
    "crime_group_df = crime_1_df.groupby('geo_name').mean()\n",
    "crime_group_df.head()"
   ]
  },
  {
   "cell_type": "markdown",
   "metadata": {},
   "source": [
    "# Find the Top and Bottom 3 Safest Counties "
   ]
  },
  {
   "cell_type": "code",
   "execution_count": 33,
   "metadata": {},
   "outputs": [
    {
     "name": "stdout",
     "output_type": "stream",
     "text": [
      "                      violent_crime\n",
      "geo_name                           \n",
      "San Joaquin County       819.606667\n",
      "Shasta County            734.853333\n",
      "San Francisco County     732.763333\n"
     ]
    }
   ],
   "source": [
    "print (crime_group_df.nlargest(3,'violent_crime'))"
   ]
  },
  {
   "cell_type": "code",
   "execution_count": 34,
   "metadata": {},
   "outputs": [
    {
     "name": "stdout",
     "output_type": "stream",
     "text": [
      "                violent_crime\n",
      "geo_name                     \n",
      "Placer County      194.253333\n",
      "Marin County       196.770000\n",
      "Ventura County     205.020000\n"
     ]
    }
   ],
   "source": [
    "print (crime_group_df.nsmallest(3,'violent_crime'))"
   ]
  },
  {
   "cell_type": "markdown",
   "metadata": {},
   "source": [
    "# Reference to Income CSV and reading CSV into Pandas DataFrame"
   ]
  },
  {
   "cell_type": "code",
   "execution_count": 35,
   "metadata": {},
   "outputs": [
    {
     "data": {
      "text/html": [
       "<div>\n",
       "<style scoped>\n",
       "    .dataframe tbody tr th:only-of-type {\n",
       "        vertical-align: middle;\n",
       "    }\n",
       "\n",
       "    .dataframe tbody tr th {\n",
       "        vertical-align: top;\n",
       "    }\n",
       "\n",
       "    .dataframe thead th {\n",
       "        text-align: right;\n",
       "    }\n",
       "</style>\n",
       "<table border=\"1\" class=\"dataframe\">\n",
       "  <thead>\n",
       "    <tr style=\"text-align: right;\">\n",
       "      <th></th>\n",
       "      <th>year</th>\n",
       "      <th>geo_name</th>\n",
       "      <th>geo</th>\n",
       "      <th>income</th>\n",
       "    </tr>\n",
       "  </thead>\n",
       "  <tbody>\n",
       "    <tr>\n",
       "      <th>0</th>\n",
       "      <td>2013</td>\n",
       "      <td>Alameda County, CA</td>\n",
       "      <td>05000US06001</td>\n",
       "      <td>72112</td>\n",
       "    </tr>\n",
       "    <tr>\n",
       "      <th>1</th>\n",
       "      <td>2013</td>\n",
       "      <td>Alpine County</td>\n",
       "      <td>05000US06003</td>\n",
       "      <td>58636</td>\n",
       "    </tr>\n",
       "    <tr>\n",
       "      <th>2</th>\n",
       "      <td>2013</td>\n",
       "      <td>Amador County</td>\n",
       "      <td>05000US06005</td>\n",
       "      <td>53684</td>\n",
       "    </tr>\n",
       "    <tr>\n",
       "      <th>3</th>\n",
       "      <td>2013</td>\n",
       "      <td>Butte County, CA</td>\n",
       "      <td>05000US06007</td>\n",
       "      <td>43752</td>\n",
       "    </tr>\n",
       "    <tr>\n",
       "      <th>4</th>\n",
       "      <td>2013</td>\n",
       "      <td>Calaveras County</td>\n",
       "      <td>05000US06009</td>\n",
       "      <td>55295</td>\n",
       "    </tr>\n",
       "  </tbody>\n",
       "</table>\n",
       "</div>"
      ],
      "text/plain": [
       "   year            geo_name           geo  income\n",
       "0  2013  Alameda County, CA  05000US06001   72112\n",
       "1  2013       Alpine County  05000US06003   58636\n",
       "2  2013       Amador County  05000US06005   53684\n",
       "3  2013    Butte County, CA  05000US06007   43752\n",
       "4  2013    Calaveras County  05000US06009   55295"
      ]
     },
     "execution_count": 35,
     "metadata": {},
     "output_type": "execute_result"
    }
   ],
   "source": [
    "income_df = pd.read_csv(\"Resources/income.csv\")\n",
    "income_df.head()"
   ]
  },
  {
   "cell_type": "markdown",
   "metadata": {},
   "source": [
    "# Data Cleanup and Prep"
   ]
  },
  {
   "cell_type": "code",
   "execution_count": 36,
   "metadata": {},
   "outputs": [
    {
     "data": {
      "text/html": [
       "<div>\n",
       "<style scoped>\n",
       "    .dataframe tbody tr th:only-of-type {\n",
       "        vertical-align: middle;\n",
       "    }\n",
       "\n",
       "    .dataframe tbody tr th {\n",
       "        vertical-align: top;\n",
       "    }\n",
       "\n",
       "    .dataframe thead th {\n",
       "        text-align: right;\n",
       "    }\n",
       "</style>\n",
       "<table border=\"1\" class=\"dataframe\">\n",
       "  <thead>\n",
       "    <tr style=\"text-align: right;\">\n",
       "      <th></th>\n",
       "      <th>year</th>\n",
       "      <th>geo_name</th>\n",
       "      <th>geo</th>\n",
       "      <th>income</th>\n",
       "    </tr>\n",
       "  </thead>\n",
       "  <tbody>\n",
       "    <tr>\n",
       "      <th>0</th>\n",
       "      <td>2013</td>\n",
       "      <td>Alameda County</td>\n",
       "      <td>05000US06001</td>\n",
       "      <td>72112</td>\n",
       "    </tr>\n",
       "    <tr>\n",
       "      <th>1</th>\n",
       "      <td>2013</td>\n",
       "      <td>Alpine County</td>\n",
       "      <td>05000US06003</td>\n",
       "      <td>58636</td>\n",
       "    </tr>\n",
       "    <tr>\n",
       "      <th>2</th>\n",
       "      <td>2013</td>\n",
       "      <td>Amador County</td>\n",
       "      <td>05000US06005</td>\n",
       "      <td>53684</td>\n",
       "    </tr>\n",
       "    <tr>\n",
       "      <th>3</th>\n",
       "      <td>2013</td>\n",
       "      <td>Butte County</td>\n",
       "      <td>05000US06007</td>\n",
       "      <td>43752</td>\n",
       "    </tr>\n",
       "    <tr>\n",
       "      <th>4</th>\n",
       "      <td>2013</td>\n",
       "      <td>Calaveras County</td>\n",
       "      <td>05000US06009</td>\n",
       "      <td>55295</td>\n",
       "    </tr>\n",
       "  </tbody>\n",
       "</table>\n",
       "</div>"
      ],
      "text/plain": [
       "   year          geo_name           geo  income\n",
       "0  2013    Alameda County  05000US06001   72112\n",
       "1  2013     Alpine County  05000US06003   58636\n",
       "2  2013     Amador County  05000US06005   53684\n",
       "3  2013      Butte County  05000US06007   43752\n",
       "4  2013  Calaveras County  05000US06009   55295"
      ]
     },
     "execution_count": 36,
     "metadata": {},
     "output_type": "execute_result"
    }
   ],
   "source": [
    "income_df[\"geo_name\"] = income_df[\"geo_name\"].map(lambda x: x.rstrip(', CA'))\n",
    "income_df.head()"
   ]
  },
  {
   "cell_type": "code",
   "execution_count": 37,
   "metadata": {},
   "outputs": [
    {
     "data": {
      "text/html": [
       "<div>\n",
       "<style scoped>\n",
       "    .dataframe tbody tr th:only-of-type {\n",
       "        vertical-align: middle;\n",
       "    }\n",
       "\n",
       "    .dataframe tbody tr th {\n",
       "        vertical-align: top;\n",
       "    }\n",
       "\n",
       "    .dataframe thead th {\n",
       "        text-align: right;\n",
       "    }\n",
       "</style>\n",
       "<table border=\"1\" class=\"dataframe\">\n",
       "  <thead>\n",
       "    <tr style=\"text-align: right;\">\n",
       "      <th></th>\n",
       "      <th>geo_name</th>\n",
       "      <th>income</th>\n",
       "    </tr>\n",
       "  </thead>\n",
       "  <tbody>\n",
       "    <tr>\n",
       "      <th>0</th>\n",
       "      <td>Alameda County</td>\n",
       "      <td>72112</td>\n",
       "    </tr>\n",
       "    <tr>\n",
       "      <th>1</th>\n",
       "      <td>Alpine County</td>\n",
       "      <td>58636</td>\n",
       "    </tr>\n",
       "    <tr>\n",
       "      <th>2</th>\n",
       "      <td>Amador County</td>\n",
       "      <td>53684</td>\n",
       "    </tr>\n",
       "    <tr>\n",
       "      <th>3</th>\n",
       "      <td>Butte County</td>\n",
       "      <td>43752</td>\n",
       "    </tr>\n",
       "    <tr>\n",
       "      <th>4</th>\n",
       "      <td>Calaveras County</td>\n",
       "      <td>55295</td>\n",
       "    </tr>\n",
       "  </tbody>\n",
       "</table>\n",
       "</div>"
      ],
      "text/plain": [
       "           geo_name  income\n",
       "0    Alameda County   72112\n",
       "1     Alpine County   58636\n",
       "2     Amador County   53684\n",
       "3      Butte County   43752\n",
       "4  Calaveras County   55295"
      ]
     },
     "execution_count": 37,
     "metadata": {},
     "output_type": "execute_result"
    }
   ],
   "source": [
    "income_1_df = income_df.drop(['year','geo'],axis=1)\n",
    "income_1_df.head()"
   ]
  },
  {
   "cell_type": "markdown",
   "metadata": {},
   "source": [
    "# Plot the data"
   ]
  },
  {
   "cell_type": "code",
   "execution_count": 38,
   "metadata": {},
   "outputs": [],
   "source": [
    "crime_df_Placer_County = crime_df[crime_df.geo_name == \"Placer County\"].sort_values('year')\n",
    "crime_df_Marin_County = crime_df[crime_df.geo_name == \"Marin County\"].sort_values('year')\n",
    "crime_df_Ventura_County = crime_df[crime_df.geo_name == \"Ventura County\"].sort_values('year')"
   ]
  },
  {
   "cell_type": "code",
   "execution_count": 39,
   "metadata": {},
   "outputs": [],
   "source": [
    "income_df_Placer_County = income_df[income_1_df.geo_name == \"Placer County\"].sort_values('year')\n",
    "income_df_Marin_County = income_df[income_1_df.geo_name == \"Marin County\"].sort_values('year')\n",
    "income_df_Ventura_County = income_df[income_1_df.geo_name == \"Ventura County\"].sort_values('year')"
   ]
  },
  {
   "cell_type": "code",
   "execution_count": 40,
   "metadata": {},
   "outputs": [],
   "source": [
    "pc_c_x_axis = crime_df_Placer_County.year\n",
    "pc_c_y_axis = crime_df_Placer_County.violent_crime\n",
    "mc_c_x_axis = crime_df_Marin_County.year\n",
    "mc_c_y_axis = crime_df_Marin_County.violent_crime\n",
    "vc_c_x_axis = crime_df_Ventura_County.year\n",
    "vc_c_y_axis = crime_df_Ventura_County.violent_crime"
   ]
  },
  {
   "cell_type": "code",
   "execution_count": 41,
   "metadata": {},
   "outputs": [],
   "source": [
    "pc_i_x_axis = income_df_Placer_County.year\n",
    "pc_i_y_axis = income_df_Placer_County.income\n",
    "mc_i_x_axis = income_df_Marin_County.year\n",
    "mc_i_y_axis = income_df_Marin_County.income\n",
    "vc_i_x_axis = income_df_Ventura_County.year\n",
    "vc_i_y_axis = income_df_Ventura_County.income"
   ]
  },
  {
   "cell_type": "code",
   "execution_count": 44,
   "metadata": {},
   "outputs": [
    {
     "data": {
      "image/png": "[encoded data removed]",
      "text/plain": [
       "<Figure size 1440x432 with 2 Axes>"
      ]
     },
     "metadata": {},
     "output_type": "display_data"
    }
   ],
   "source": [
    "f = plt.figure(figsize=(20,6))\n",
    "ax = f.add_subplot(121)\n",
    "ax2 = f.add_subplot(122)\n",
    "\n",
    "plt.suptitle('Top 3 safest counties by crime rates',fontsize=20)\n",
    "ax.set_title ('Crime vs Year')\n",
    "ax.set_xlabel('Year')\n",
    "ax.set_ylabel('Crime total')\n",
    "ax.set_xticks([2015,2016,2017])\n",
    "pc_ax = ax.plot(pc_c_x_axis,pc_c_y_axis,label='Placer County')\n",
    "mc_ax = ax.plot(mc_c_x_axis,mc_c_y_axis,label='Marin County')\n",
    "vc_ax = ax.plot(vc_c_x_axis,vc_c_y_axis,label='Ventura County')\n",
    "\n",
    "ax2.set_title ('Income vs Year')\n",
    "ax2.set_xlabel('Year')\n",
    "ax2.set_ylabel('Income')\n",
    "ax2.set_xticks([2013,2014,2015,2016])\n",
    "ax2.plot(pc_i_x_axis,pc_i_y_axis,label='Placer County')\n",
    "ax2.plot(mc_i_x_axis,mc_i_y_axis,label='Marin County')\n",
    "ax2.plot(vc_i_x_axis,vc_i_y_axis,label='Ventura County')\n",
    "\n",
    "ax.legend()\n",
    "ax2.legend()\n",
    "plt.savefig('Top 3 safest counties by crime rates.png')\n",
    "plt.show()\n"
   ]
  },
  {
   "cell_type": "code",
   "execution_count": 16,
   "metadata": {},
   "outputs": [],
   "source": [
    "crime_df_San_Joaquin = crime_df[crime_df.geo_name == \"San Joaquin County\"].sort_values('year')\n",
    "crime_df_Shasta = crime_df[crime_df.geo_name == \"Shasta County\"].sort_values('year')\n",
    "crime_df_San_Francisco = crime_df[crime_df.geo_name == \"San Francisco County\"].sort_values('year')"
   ]
  },
  {
   "cell_type": "code",
   "execution_count": 17,
   "metadata": {},
   "outputs": [],
   "source": [
    "income_df_San_Joaquin_County = income_df[income_1_df.geo_name == \"San Joaquin County\"].sort_values('year')\n",
    "income_df_Shasta_County = income_df[income_1_df.geo_name == \"Shasta County\"].sort_values('year')\n",
    "income_df_San_Francisco_County = income_df[income_1_df.geo_name == \"San Francisco County\"].sort_values('year')"
   ]
  },
  {
   "cell_type": "code",
   "execution_count": 18,
   "metadata": {},
   "outputs": [],
   "source": [
    "sj_c_x_axis = crime_df_San_Joaquin.year\n",
    "sj_c_y_axis = crime_df_San_Joaquin.violent_crime\n",
    "s_c_x_axis = crime_df_Shasta.year\n",
    "s_c_y_axis = crime_df_Shasta.violent_crime\n",
    "sf_c_x_axis = crime_df_San_Francisco.year\n",
    "sf_c_y_axis = crime_df_San_Francisco.violent_crime"
   ]
  },
  {
   "cell_type": "code",
   "execution_count": 19,
   "metadata": {},
   "outputs": [],
   "source": [
    "sj_i_x_axis = income_df_San_Joaquin_County.year\n",
    "sj_i_y_axis = income_df_San_Joaquin_County.income\n",
    "s_i_x_axis = income_df_Shasta_County.year\n",
    "s_i_y_axis = income_df_Shasta_County.income\n",
    "sf_i_x_axis = income_df_San_Francisco_County.year\n",
    "sf_i_y_axis = income_df_San_Francisco_County.income"
   ]
  },
  {
   "cell_type": "code",
   "execution_count": 45,
   "metadata": {},
   "outputs": [
    {
     "data": {
      "image/png": "[encoded data removed]",
      "text/plain": [
       "<Figure size 1440x432 with 2 Axes>"
      ]
     },
     "metadata": {},
     "output_type": "display_data"
    }
   ],
   "source": [
    "f = plt.figure(figsize=(20,6))\n",
    "ax = f.add_subplot(121)\n",
    "ax2 = f.add_subplot(122)\n",
    "\n",
    "plt.suptitle('Bottom 3 safest counties by crime rates',fontsize=20)\n",
    "ax.set_title ('Crime vs Year')\n",
    "ax.set_xlabel('Year')\n",
    "ax.set_ylabel('Crime total')\n",
    "ax.set_xticks([2015,2016,2017])\n",
    "pc_ax = ax.plot(sj_c_x_axis,sj_c_y_axis,label='San Joaquin County')\n",
    "mc_ax = ax.plot(s_c_x_axis,s_c_y_axis,label='Shasta County')\n",
    "vc_ax = ax.plot(sf_c_x_axis,sf_c_y_axis,label='San Francisco County')\n",
    "\n",
    "ax2.set_title ('Income vs Year')\n",
    "ax2.set_xlabel('Year')\n",
    "ax2.set_ylabel('Income')\n",
    "ax2.set_xticks([2013,2014,2015,2016])\n",
    "ax2.plot(sj_i_x_axis,sj_i_y_axis,label='San Joaquin County')\n",
    "ax2.plot(s_i_x_axis,s_i_y_axis,label='Shasta County')\n",
    "ax2.plot(sf_i_x_axis,sf_i_y_axis,label='San Francisco County')\n",
    "\n",
    "ax.legend()\n",
    "ax2.legend()\n",
    "plt.savefig('Bottom 3 safest counties by crime rates.png')\n",
    "plt.show()"
   ]
  },
  {
   "cell_type": "markdown",
   "metadata": {},
   "source": [
    "# <html>\n",
    "<body lang=EN-US style='tab-interval:.5in'>\n",
    "<div class=WordSection1>\n",
    "<p class=MsoNormal><b>Questions:</b><o:p></o:p></p>\n",
    "<p class=MsoNormal>Is the any relationship between Crime and Income?<o:p></o:p></p>\n",
    "<p class=MsoNormal><b>Finding:</b><o:p></o:p></p>\n",
    "<p class=MsoNormal>There is relationship between Crime and Income: It shows\n",
    "that the crime goes down if the income goes up.<o:p></o:p></p>\n",
    "<p class=MsoNormal>Except the data for San Francisco County shows backwards,\n",
    "that needs further analysis</p>\n",
    "</div></body></html>"
   ]
  },
  {
   "cell_type": "code",
   "execution_count": null,
   "metadata": {},
   "outputs": [],
   "source": []
  },
  {
   "cell_type": "markdown",
   "metadata": {},
   "source": [
    "# Save Top 10 safest counties "
   ]
  },
  {
   "cell_type": "code",
   "execution_count": 46,
   "metadata": {},
   "outputs": [
    {
     "data": {
      "text/html": [
       "<div>\n",
       "<style scoped>\n",
       "    .dataframe tbody tr th:only-of-type {\n",
       "        vertical-align: middle;\n",
       "    }\n",
       "\n",
       "    .dataframe tbody tr th {\n",
       "        vertical-align: top;\n",
       "    }\n",
       "\n",
       "    .dataframe thead th {\n",
       "        text-align: right;\n",
       "    }\n",
       "</style>\n",
       "<table border=\"1\" class=\"dataframe\">\n",
       "  <thead>\n",
       "    <tr style=\"text-align: right;\">\n",
       "      <th></th>\n",
       "      <th>geo_name</th>\n",
       "      <th>score</th>\n",
       "    </tr>\n",
       "  </thead>\n",
       "  <tbody>\n",
       "    <tr>\n",
       "      <th>0</th>\n",
       "      <td>Placer County</td>\n",
       "      <td>10</td>\n",
       "    </tr>\n",
       "    <tr>\n",
       "      <th>1</th>\n",
       "      <td>Marin County</td>\n",
       "      <td>9</td>\n",
       "    </tr>\n",
       "    <tr>\n",
       "      <th>2</th>\n",
       "      <td>Ventura County</td>\n",
       "      <td>8</td>\n",
       "    </tr>\n",
       "    <tr>\n",
       "      <th>3</th>\n",
       "      <td>Tuolumne County</td>\n",
       "      <td>7</td>\n",
       "    </tr>\n",
       "    <tr>\n",
       "      <th>4</th>\n",
       "      <td>Colusa County</td>\n",
       "      <td>6</td>\n",
       "    </tr>\n",
       "    <tr>\n",
       "      <th>5</th>\n",
       "      <td>Trinity County</td>\n",
       "      <td>5</td>\n",
       "    </tr>\n",
       "    <tr>\n",
       "      <th>6</th>\n",
       "      <td>Orange County</td>\n",
       "      <td>4</td>\n",
       "    </tr>\n",
       "    <tr>\n",
       "      <th>7</th>\n",
       "      <td>San Mateo County</td>\n",
       "      <td>3</td>\n",
       "    </tr>\n",
       "    <tr>\n",
       "      <th>8</th>\n",
       "      <td>El Dorado County</td>\n",
       "      <td>2</td>\n",
       "    </tr>\n",
       "    <tr>\n",
       "      <th>9</th>\n",
       "      <td>Calaveras County</td>\n",
       "      <td>1</td>\n",
       "    </tr>\n",
       "  </tbody>\n",
       "</table>\n",
       "</div>"
      ],
      "text/plain": [
       "           geo_name  score\n",
       "0     Placer County     10\n",
       "1      Marin County      9\n",
       "2    Ventura County      8\n",
       "3   Tuolumne County      7\n",
       "4     Colusa County      6\n",
       "5    Trinity County      5\n",
       "6     Orange County      4\n",
       "7  San Mateo County      3\n",
       "8  El Dorado County      2\n",
       "9  Calaveras County      1"
      ]
     },
     "execution_count": 46,
     "metadata": {},
     "output_type": "execute_result"
    }
   ],
   "source": [
    "crime_10_df = crime_group_df.nsmallest(10,'violent_crime')\n",
    "crime_10_df['score']=range(10, 0, -1)\n",
    "crime_10_df = crime_10_df.drop(['violent_crime'], axis=1)\n",
    "crime_10_df = crime_10_df.reset_index()\n",
    "crime_10_df.to_csv('Resources/crime_10.csv',index=False)\n",
    "crime_10_df"
   ]
  },
  {
   "cell_type": "code",
   "execution_count": null,
   "metadata": {},
   "outputs": [],
   "source": []
  }
 ],
 "metadata": {
  "kernelspec": {
   "display_name": "Python 3",
   "language": "python",
   "name": "python3"
  },
  "language_info": {
   "codemirror_mode": {
    "name": "ipython",
    "version": 3
   },
   "file_extension": ".py",
   "mimetype": "text/x-python",
   "name": "python",
   "nbconvert_exporter": "python",
   "pygments_lexer": "ipython3",
   "version": "3.7.1"
  }
 },
 "nbformat": 4,
 "nbformat_minor": 2
}
